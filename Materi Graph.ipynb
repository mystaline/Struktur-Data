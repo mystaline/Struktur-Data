{
 "cells": [
  {
   "cell_type": "markdown",
   "metadata": {},
   "source": [
    "# GRAPH\n",
    "\n",
    "    Graph adalah salah satu metode pemetaan data dengan memberikan informasi pada kumpulan titik (node) yang dihubungkan dengan segmen garis. Titik ini atau Node disebut verteks sedangkan segmen garis disebut dengan ruas (edge).\n",
    "\n",
    "    Algoritma Alur program dari graph untuk mencari semua path, path terpendek, dan path terpanjang yang akan dicontohkan di kode program dibawah ini adalah :\n",
    "\n",
    "1. Membuat fungsi yang berisi paramater graph tersebut, permulaan path, akhir path, variabel tempat yang akan diisi path.\n",
    "2. Variabel tempat yang akan diisi path ditambah permulaan path.\n",
    "3. Jika permulaan path sama dengan akhir path maka variabel tempat yang akan diisi path di tampilkan.\n",
    "4. Jika permulaan path tidak berada di graph tersebut maka hasilnya adalah None atau tidak ada.\n",
    "5. Pengulangan dimulai dari graph yang berobjek permulaan path.\n",
    "6. Jika node tidak berada di path maka memulai fungsi pencarian nomor 1 dengan parameter graph tersebut, node, akhir path, variabel terakhir yang akan diisi path.\n",
    "\n",
    "Istilah-istilah yang terdapat pada graph :\n",
    "\n",
    "1. V adalah himpunan verteks dan E himpunan sisi yang terdefinisi antara pasangan-pasangan verteks.\n",
    "2. Edge (E) adalah bagian dari graph yang menghubungkan 2 vertex/node/titik.\n",
    "3. Weight (W) adalah sebuah nilai dalam graph atau yang menunjukan biaya yang dibutuhkan untuk berpindah dari satu titik ke titik yang lain. Misalnya sebuah peta diinterpestasikan dalam graph, maka jarak satu kota ke kota lain disebut Weight.\n",
    "4. Path adalah serangkaian vertex yang berbeda-beda yang berdekatan dihubungkan oleh edge dan berturut-turut dari vertex satu ke vertex berikutnya. Path dari a ke c adalah urutan vertex (a,b,c) yang terdiri dari beberapa pasang Edge {(a,b), (b,c)} atau urutan vertex (a,d,c) yang terdiri dari beberapa pasang Edge {(a,d), (b,c)}\n",
    "\n",
    "Jenis-jenis graph:\n",
    "\n",
    "1. Undirected Graph. Sebuah graph yang ujung – ujung dari edge tidak memiliki arah (atau tidak memiliki mata panah), dimana setiap ujung dari edge berlaku dua arah.\n",
    "2. Directed Graph (Digraph). Sebuah graph yang ujung – ujung dari edge memiliki arah, dimana setiap ujung dari edge dalam Digraph memiliki anak panah yang mengarah ke vertex tertentu.\n",
    "3. Weigthed Graph dan UnWeigthed Graph Weigthed Graph Sebuah graph dimana setiap edge memiliki nilai. Nilai tersebut adalah representasi dari bobot/biaya/weight dari edge tersebut.\n",
    "4. Cyle Graph Sebuah directed graph dimana titik awal sama dengan titik tujuan.\n",
    "5. Connected Graph dan Disconnected Graph Connected Graph adalah sebuah graph dimana setiap vertex terhubung satu dengan lainnya, dalam graph tersebut tidak ada vertex yang tidak terhubung. Sedangkan disconnected graph jika salah satu vertex tidak terhubung dengan vertex lainnya, atau dapat dikatakan tidak ada jalur menuju vertex tersebut.\n",
    "6. Complete Graph Completed Graph adalah sebuah graph dimana semua vertex terhubung dengan lainnya, tidak ada edge yang terputus."
   ]
  },
  {
   "cell_type": "markdown",
   "metadata": {},
   "source": [
    "1. Representasi dengan List/Dictionary\n",
    "    \n",
    "    Untuk setiap vertex (V) akan menyimpan list yang berisi tetangga dari V. A:[b,d] artinya vertex a mempunyai tetangga b dan d. Implementasinya menggunakan bahasa Python adalah sebagai berikut ini.\n",
    "\n",
    "- List"
   ]
  },
  {
   "cell_type": "code",
   "execution_count": 3,
   "metadata": {},
   "outputs": [
    {
     "name": "stdout",
     "output_type": "stream",
     "text": [
      "Semua tetangga dari vertex a:  ['b', 'd']\n",
      "Semua tetangga dari vertex d:  ['a', 'b', 'c']\n",
      "\n",
      "Menampilkan semua vertex dan tetangganya masing-masing\n",
      "a : ['b', 'd']\n",
      "b : ['a', 'd']\n",
      "c : ['d']\n",
      "d : ['a', 'b', 'c']\n"
     ]
    }
   ],
   "source": [
    "# A. list of lists\n",
    "adjLists = [ ['b','d'], ['a','d'], ['d'], ['a','b','c'] ]\n",
    "node= ['a','b','c','d']\n",
    "# testing\n",
    "print(\"Semua tetangga dari vertex a: \", adjLists[0])\n",
    "print(\"Semua tetangga dari vertex d: \", adjLists[3])\n",
    "print(\"\\nMenampilkan semua vertex dan tetangganya masing-masing\")\n",
    "n = len(adjLists)\n",
    "for n in range(0,n):\n",
    "    print(node[n], \":\", adjLists[n])"
   ]
  },
  {
   "cell_type": "markdown",
   "metadata": {},
   "source": [
    "- Dictionary"
   ]
  },
  {
   "cell_type": "code",
   "execution_count": 4,
   "metadata": {},
   "outputs": [
    {
     "name": "stdout",
     "output_type": "stream",
     "text": [
      "Semua tetangga dari vertex indeks ke a:  ['b', 'd']\n",
      "Semua tetangga dari vertex indeks ke d:  ['a', 'b', 'c']\n",
      "\n",
      "Menampilkan semua vertex dan tetangganya masing-masing\n",
      "a : ['b', 'd']\n",
      "b : ['a', 'd']\n",
      "c : ['d']\n",
      "d : ['a', 'b', 'c']\n"
     ]
    }
   ],
   "source": [
    "adjLists_dict = {}\n",
    "# insert (vertex, list) pairs into dictionary\n",
    "adjLists_dict = {'a': ['b', 'd'],\n",
    "                 'b': ['a', 'd'],\n",
    "                 'c': ['d'],\n",
    "                 'd': ['a','b','c'],\n",
    "                }\n",
    "# testing\n",
    "print(\"Semua tetangga dari vertex indeks ke a: \",adjLists_dict['a'])\n",
    "print(\"Semua tetangga dari vertex indeks ke d: \",adjLists_dict['d'])\n",
    "print(\"\\nMenampilkan semua vertex dan tetangganya masing-masing\")\n",
    "for node in adjLists_dict:\n",
    "      print(node, \":\", adjLists_dict[node])"
   ]
  },
  {
   "cell_type": "markdown",
   "metadata": {},
   "source": [
    "2. Representasi dengan Link List"
   ]
  },
  {
   "cell_type": "code",
   "execution_count": 5,
   "metadata": {},
   "outputs": [
    {
     "name": "stdout",
     "output_type": "stream",
     "text": [
      "Adjacency list dari vertex 0\n",
      " head -> 3 -> 1 \n",
      "\n",
      "Adjacency list dari vertex 1\n",
      " head -> 3 -> 0 \n",
      "\n",
      "Adjacency list dari vertex 2\n",
      " head -> 3 \n",
      "\n",
      "Adjacency list dari vertex 3\n",
      " head -> 2 -> 1 -> 0 \n",
      "\n"
     ]
    }
   ],
   "source": [
    "# A class to represent the adjacency list of the node\n",
    "class AdjNode:\n",
    "    def __init__(self, data):\n",
    "        self.vertex = data\n",
    "        self.next = None\n",
    "        \n",
    "# A class to represent a graph. A graph\n",
    "# is the list of the adjacency lists.\n",
    "# Size of the array will be the no. of the\n",
    "# vertices \"V\"\n",
    "class Graph:\n",
    "    def __init__(self, vertices):\n",
    "        self.V = vertices\n",
    "        self.graph = [None] * self.V\n",
    "    \n",
    "    # Function to add an edge in an undirected graph\n",
    "    def add_edge(self, src, dest):\n",
    "    # Adding the node to the source node\n",
    "        node = AdjNode(dest)\n",
    "        node.next = self.graph[src]\n",
    "        self.graph[src] = node\n",
    "        # Adding the source node to the destination as\n",
    "        # it is the undirected graph\n",
    "        node = AdjNode(src)\n",
    "        node.next = self.graph[dest]\n",
    "        self.graph[dest] = node\n",
    "    \n",
    "    # Function to print the graph\n",
    "    def print_graph(self):\n",
    "        for i in range(self.V):\n",
    "            print(\"Adjacency list dari vertex {}\\n head\".format(i),end=\"\")\n",
    "            temp = self.graph[i]\n",
    "            while temp:\n",
    "                print(\" -> {}\".format(temp.vertex), end=\"\")\n",
    "                temp = temp.next\n",
    "            print(\" \\n\")\n",
    "\n",
    "# Driver program to the above graph class\n",
    "if __name__ == \"__main__\":\n",
    "    V = 4\n",
    "    graph = Graph(V)\n",
    "    graph.add_edge(0, 1)\n",
    "    graph.add_edge(0, 3)\n",
    "    graph.add_edge(1, 3)\n",
    "    graph.add_edge(2, 3)\n",
    "    graph.print_graph()"
   ]
  },
  {
   "cell_type": "markdown",
   "metadata": {},
   "source": [
    "3. Representasi dengan Matrix"
   ]
  },
  {
   "cell_type": "code",
   "execution_count": 6,
   "metadata": {},
   "outputs": [
    {
     "name": "stdout",
     "output_type": "stream",
     "text": [
      "   0    1    0    1 \n",
      "   1    0    0    1 \n",
      "   0    0    0    1 \n",
      "   1    1    1    0 \n"
     ]
    }
   ],
   "source": [
    "class Graph(object):\n",
    "    def __init__(self, size):\n",
    "        self.adjMatrix = []\n",
    "        for i in range(size):\n",
    "            self.adjMatrix.append([0 for i in range(size)])\n",
    "        self.size = size\n",
    "    \n",
    "    def addEdge(self, v1, v2):\n",
    "        if v1 == v2:\n",
    "            print(\"Same vertex %d and %d\" % (v1, v2))\n",
    "        self.adjMatrix[v1][v2] = 1\n",
    "        self.adjMatrix[v2][v1] = 1\n",
    "    \n",
    "    def removeEdge(self, v1, v2):\n",
    "        if self.adjMatrix[v1][v2] == 0:\n",
    "            print(\"No edge between %d and %d\" % (v1, v2))\n",
    "            return\n",
    "        self.adjMatrix[v1][v2] = 0\n",
    "        self.adjMatrix[v2][v1] = 0\n",
    "    \n",
    "    def containsEdge(self, v1, v2):\n",
    "        return True if self.adjMatrix[v1][v2] > 0 else False\n",
    "     \n",
    "    def __len__(self):\n",
    "        return self.size\n",
    "    \n",
    "    def toString(self):\n",
    "        for row in self.adjMatrix:\n",
    "            for val in row:\n",
    "                print('{:4}'.format(val), end = ' ')\n",
    "            print()\n",
    "def main():\n",
    "    g = Graph(4)\n",
    "    g.addEdge(0, 1);\n",
    "    g.addEdge(0, 3);\n",
    "    g.addEdge(1, 3);\n",
    "    g.addEdge(2, 3);\n",
    "    g.toString()\n",
    "if __name__ == '__main__':\n",
    "    main()"
   ]
  },
  {
   "cell_type": "markdown",
   "metadata": {},
   "source": [
    "### Traversal Graph\n",
    "\n",
    "    Mengunjungi setiap vertex/node secara sistematik. Traversal Graph digunakan untuk mencari jalur dalam suatu graph dari titik asal ke titik tujuan, mencari jalur terpendek antara dua node/vertex, menemukan semua jalur yang bisa dilalui dari titik asal ke titik tujuan. Implementasinya dalam python sebagai berikut menggunakan Adjacency List dengan dictionary.\n",
    "\n",
    "graph = {‘a’: [‘b’, ‘d’] ‘b’: [‘a’, ‘d’] ‘c’: [‘d’] ‘d’: [‘a’, ‘b’, ‘c’]}\n",
    "\n",
    "    Dictionary tersebut berisi semua node/simpul serta list tetangganya, dimana setiap key suatu simpul akan berkorespondensi dengan semua tetangganya yang terhubung dengan simpul key tersebut. Berikut ini adalah implementasi mencari jalur dari simpul asal ke simpul tujuan, jika ada jalur maka nilai yang dikembalikan adalah list path jika tidak ada jalur maka nilai yang dikembalikan none. Algoritma yang digunakan adalah backtracking, yaitu mencoba setiap kemungkinan secara bergantian sampai menemukan solusi."
   ]
  },
  {
   "cell_type": "code",
   "execution_count": 7,
   "metadata": {},
   "outputs": [
    {
     "name": "stdout",
     "output_type": "stream",
     "text": [
      "['a', 'b', 'd']\n"
     ]
    }
   ],
   "source": [
    "graph = {'a': ['b', 'd'],\n",
    "         'b': ['a', 'd'],\n",
    "         'c': ['d'],\n",
    "         'd': ['a', 'b', 'c']}\n",
    "\n",
    "def find_path(graph, start, end, path=[]):\n",
    "    \n",
    "    path = path + [start]\n",
    "        \n",
    "    for node in graph[start]:\n",
    "            if not node in path:\n",
    "                newpath = find_path(graph, node, end, path)\n",
    "                if newpath:\n",
    "                    return newpath\n",
    "        \n",
    "    if start == end:\n",
    "            return path\n",
    "        \n",
    "    if not start in graph:\n",
    "            return None\n",
    "        \n",
    "    return None\n",
    "\n",
    "print(find_path(graph, 'a', 'd'))"
   ]
  },
  {
   "cell_type": "markdown",
   "metadata": {},
   "source": [
    "    Dengan menggunakan algoritma yang sama dilakukan untuk mendapatkan semua jalur dari suatu path."
   ]
  },
  {
   "cell_type": "code",
   "execution_count": 11,
   "metadata": {},
   "outputs": [],
   "source": [
    "def all_path(graph, start, end, path=[]):\n",
    "    \n",
    "    path = path + [start]\n",
    "    \n",
    "    if start == end:\n",
    "        return [path]\n",
    "    \n",
    "    if not start in graph:\n",
    "        return []\n",
    "    \n",
    "    paths = []\n",
    "    \n",
    "    for node in graph[start]:\n",
    "        if not node in path:\n",
    "            newpaths = all_path(graph, node, end, path)\n",
    "            for newpath in newpaths:\n",
    "                paths.append(newpath)\n",
    "    \n",
    "    return paths"
   ]
  },
  {
   "cell_type": "markdown",
   "metadata": {},
   "source": [
    "    Sedangkan untuk mendapatkan jalur tercepat, maka dilakukan dengan membandingkan jumlah jalur yang dihasilkan dari semua path dan dipilih yang terkecil."
   ]
  },
  {
   "cell_type": "code",
   "execution_count": 14,
   "metadata": {},
   "outputs": [],
   "source": [
    "def shortest_path(graph, start, end, path=[]): \n",
    "    path = path + [start]\n",
    "    \n",
    "    if start == end:\n",
    "        return path\n",
    "    \n",
    "    if not start in graph:\n",
    "        return None\n",
    "    \n",
    "    shortest = None\n",
    "    \n",
    "    for node in graph[start]:\n",
    "    \n",
    "        if node not in path:\n",
    "            newpath = shortest_path(graph, node, end, path)\n",
    "            if newpath:\n",
    "                if not shortest or len(newpath) < len(shortest):\n",
    "                    shortest = newpath\n",
    "    \n",
    "    return shortest"
   ]
  },
  {
   "cell_type": "code",
   "execution_count": null,
   "metadata": {},
   "outputs": [],
   "source": []
  }
 ],
 "metadata": {
  "kernelspec": {
   "display_name": "Python 3",
   "language": "python",
   "name": "python3"
  },
  "language_info": {
   "codemirror_mode": {
    "name": "ipython",
    "version": 3
   },
   "file_extension": ".py",
   "mimetype": "text/x-python",
   "name": "python",
   "nbconvert_exporter": "python",
   "pygments_lexer": "ipython3",
   "version": "3.7.0"
  }
 },
 "nbformat": 4,
 "nbformat_minor": 2
}
