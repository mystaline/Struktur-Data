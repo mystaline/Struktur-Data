{
 "cells": [
  {
   "cell_type": "markdown",
   "metadata": {},
   "source": [
    "Materi Searching"
   ]
  },
  {
   "cell_type": "markdown",
   "metadata": {},
   "source": [
    "1. Searching\n",
    "    a. Linear Search\n",
    "    b. Binary Search"
   ]
  },
  {
   "cell_type": "markdown",
   "metadata": {},
   "source": [
    "a. Linear Search (Sequential Search)\n",
    "\n",
    "    Adalah metode untuk menemukan target nilai dengan list. Secara berurutan mengecek satu persatu setiap elemen yang ada di dalam list untuk mencari nilai hingga yang cocok ditemukan atau hingga semua elemen telah selesai dicari."
   ]
  },
  {
   "cell_type": "code",
   "execution_count": 3,
   "metadata": {},
   "outputs": [
    {
     "name": "stdout",
     "output_type": "stream",
     "text": [
      "Found the search number\n",
      "5\n",
      "iterasi 6\n"
     ]
    }
   ],
   "source": [
    "#Ini mencari dari depan\n",
    "search = 6\n",
    "position=0\n",
    "myList=[1,2,3,4,5,6]\n",
    "last= len(myList)-1\n",
    "found=False\n",
    "c=0\n",
    "while position <= last and not found:\n",
    "    c += 1\n",
    "    if myList[position]==search:\n",
    "        found=True\n",
    "    else:\n",
    "        position += 1\n",
    "if found:\n",
    "    print(\"Found the search number\")\n",
    "    print(position)\n",
    "    print(\"iterasi\",c)\n",
    "else:\n",
    "    print(\"Did not find the search number\")\n",
    "    print(\"iterasi\",c)\n"
   ]
  },
  {
   "cell_type": "code",
   "execution_count": 4,
   "metadata": {},
   "outputs": [
    {
     "name": "stdout",
     "output_type": "stream",
     "text": [
      "Found the search number\n",
      "5\n",
      "iterasi 1\n"
     ]
    }
   ],
   "source": [
    "#Ini mencari dari belakang\n",
    "search = 6\n",
    "myList=[1,2,3,4,5,6]\n",
    "position= len(myList)-1\n",
    "last=0\n",
    "found=False\n",
    "c=0\n",
    "while position >= last and not found:\n",
    "    c += 1\n",
    "    if myList[position] == search:\n",
    "        found=True\n",
    "    else:\n",
    "        position = position-1\n",
    "if found:\n",
    "    print(\"Found the search number\")\n",
    "    print(position)\n",
    "    print(\"iterasi\",c)\n",
    "else:\n",
    "    print(\"Did not find the search number\")\n",
    "    print(\"iterasi\",c)"
   ]
  },
  {
   "cell_type": "code",
   "execution_count": 5,
   "metadata": {},
   "outputs": [
    {
     "name": "stdout",
     "output_type": "stream",
     "text": [
      "Found the search number\n",
      "5\n",
      "iterasi 1\n"
     ]
    }
   ],
   "source": [
    "#Ini mencari dengan menggunakan Function\n",
    "#Ini mencari dari belakang\n",
    "def mencari(num,listnya):\n",
    "    position= len(myList)-1\n",
    "    last=0\n",
    "    found=False\n",
    "    c=0\n",
    "    while position >= last and not found:\n",
    "        c += 1\n",
    "        if myList[position] == search:\n",
    "            found=True\n",
    "        else:\n",
    "            position = position-1\n",
    "    if found:\n",
    "        print(\"Found the search number\")\n",
    "        print(position)\n",
    "        print(\"iterasi\",c)\n",
    "    else:\n",
    "        print(\"Did not find the search number\")\n",
    "        print(\"iterasi\",c)\n",
    "search = 6\n",
    "myList=[1,2,3,4,5,6]\n",
    "mencari(search,myList)"
   ]
  },
  {
   "cell_type": "markdown",
   "metadata": {},
   "source": [
    "b. Binary Search (Half Interval)\n",
    "        \n",
    "    Metode binary search hanya digunakan untuk pencarian data pada list yang sudah terurut. proses yang terjadi pada pencarian dengan metode ini adalah sebagai berikut:\n",
    "1. Membaca data array.\n",
    "3. Menentukan data yang akan dicari.\n",
    "4. Menentukan element tengah dari list.\n",
    "5. Jika nilai element tengah sama dengan data yang dicari, maka proses pencarian selesai.\n",
    "6. Jika nilai elemen tengah tidak sama dengan data yang dicari, maka:\n",
    "    1. Jika nilai elemen tengah lebih besar daripada data yang dicari,\n",
    "       maka pencarian dilakukan pada setengah list pertama.\n",
    "    2. Jika nilai elemen tengah lebih kecil daripada data yang dicari,\n",
    "       maka pencarian dilakukan pada setengah list berikutnya."
   ]
  },
  {
   "cell_type": "code",
   "execution_count": 7,
   "metadata": {},
   "outputs": [
    {
     "name": "stdout",
     "output_type": "stream",
     "text": [
      "Masukkan angka yang dicari= 33\n",
      "Engga\n"
     ]
    }
   ],
   "source": [
    "#Ini mencari dengan metode binary search dengan menggunakan Function\n",
    "def search(num,myList):\n",
    "    position=0\n",
    "    iterasi=0\n",
    "    last= len(myList)\n",
    "    found=False\n",
    "    while position <= last and not found:\n",
    "        mid=(position+last)//2\n",
    "        iterasi += 1\n",
    "        if myList[mid]==num:\n",
    "            found=True\n",
    "        else:\n",
    "            if num < myList[mid]:\n",
    "                last= mid-1\n",
    "            else:\n",
    "                position= mid+1\n",
    "    if found:\n",
    "        print(\"Ketemu\")\n",
    "        print(\"iterasi\",iterasi)\n",
    "    else:\n",
    "        print(\"Engga\")\n",
    "num=int(input(\"Masukkan angka yang dicari= \"))\n",
    "search(num,[1,2,3,4,5,6,12,34,35,37,42,57,59,88,92,103,104])"
   ]
  },
  {
   "cell_type": "code",
   "execution_count": null,
   "metadata": {},
   "outputs": [],
   "source": []
  }
 ],
 "metadata": {
  "kernelspec": {
   "display_name": "Python 3",
   "language": "python",
   "name": "python3"
  },
  "language_info": {
   "codemirror_mode": {
    "name": "ipython",
    "version": 3
   },
   "file_extension": ".py",
   "mimetype": "text/x-python",
   "name": "python",
   "nbconvert_exporter": "python",
   "pygments_lexer": "ipython3",
   "version": "3.7.0"
  }
 },
 "nbformat": 4,
 "nbformat_minor": 2
}
