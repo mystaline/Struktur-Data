{
 "cells": [
  {
   "cell_type": "markdown",
   "metadata": {},
   "source": [
    "# Stack, Queue, Infix Prefix Postfix\n",
    "## Stack\n",
    "\n",
    "    Stack adalah sekumpulan item yang tersusun dimana penambahan item baru dan pengurangan item yang ada selalu mengambil tempat di akhir yang sama. Akhiran biasanya disebut sebagai top dan sebaliknya top dikenal sebagai base. Karakteristik penting stack adalah bersifat LIFO (Last In First Out) artinya data yang terakhir masuk merupakan data yang akan keluar terlebih dahulu.\n",
    "\n",
    "Operasi-operasi yang biasanya tredapat pada Stack yaitu:\n",
    "\n",
    "1. Stack() membuat stack baru yang isinya kosong. tidak membutuhkan parameter dan nilai return nya adalah stack kosong\n",
    "2. push(item) menambahkan item baru pada stack teratas. membutuhkan item dan nilai return nya tidak ada\n",
    "3. pop() mengeluarkan item teratas dari dalam stack. tidak membutuhkan parameter dan nilai return nya berupa item. Stack yang baru adalah stack yang telah termodifikasi\n",
    "4. peek() mengembalikan item teratas dari stack tapi tidak menghapusnya. tidak membutuhkan parameter dan stacknya tidak dimodifikasi\n",
    "5. isEmpty() mengecek apakah stacknya kosong ataukah tidak. tidak membutuhkan parameter dan nilai return berupa nilai boolean\n",
    "6. size() mengembalikan angka item pada stack. tidak membutuhkan parameter dan nilai return nya berupa integer."
   ]
  },
  {
   "cell_type": "code",
   "execution_count": 2,
   "metadata": {},
   "outputs": [
    {
     "name": "stdout",
     "output_type": "stream",
     "text": [
      "empty: False\n",
      "peek: tom\n",
      "pop: tom\n",
      "pop: ruffalo\n",
      "pop: evans\n",
      "pop: chris\n",
      "pop: tony\n"
     ]
    }
   ],
   "source": [
    "class Stack:\n",
    "    def __init__(self):\n",
    "        self.items = []\n",
    "    def isEmpty(self):\n",
    "         return self.items == []\n",
    "    def push(self, item):\n",
    "         self.items.append(item)\n",
    "    def pop(self):\n",
    "        return self.items.pop()\n",
    "    def peek(self):\n",
    "        return self.items[len(self.items)-1]\n",
    "    def size(self):\n",
    "        return len(self.items)\n",
    "s=Stack()\n",
    "s.push(\"black\")\n",
    "s.push(\"white\")\n",
    "s.push(\"yellow\")\n",
    "s.push(\"red\")\n",
    "s.push(\"green\")\n",
    "print(\"empty:\",s.isEmpty())\n",
    "print(\"peek:\",s.peek()) \n",
    "while not s.isEmpty():\n",
    "    print(\"pop:\",s.pop())"
   ]
  },
  {
   "cell_type": "markdown",
   "metadata": {},
   "source": [
    "## Queue\n",
    "\n",
    "    Antrian (queue) merupakan struktur data yang menerapkan konsep FIFO (First In First Out), berbanding terbalik dengan (stack) yang memiliki konsep LIFO, yaitu data yang masuk paling belakang akan keluar terlebih dahulu. Data atau elemen yang pertama ditambahkan ke dalam queue akan diambil pertama kali juga seperti pada ilusrasi di atas.\n",
    "\n",
    "Operasi operasi yang dapat di gunakan dalam antrian (queue):\n",
    "\n",
    "1. Queue() untuk membentuk antrian baru yang masih kosong. Tidak membutuhkan parameter dan return nya bernilai antrian kosong\n",
    "2. Enqueue(item) untuk menambahkan item baru pada antrian. Membutuhkan item dan returnya tidak ada.\n",
    "3. Dequeue() untuk menghapuskan item terdepan dari antrian. Tidak membutuhkan parameter dan mengembalikan nilai item. Antrian termodifikasi\n",
    "4. isEmpty() untuk mengecek apakah queue kosong atau tidak. Tidak membutuhkan parameter dan return nya berupa nilai boolean\n",
    "5. size() mengembalikan nilai item pada antrian. tidak membutuhkan parameter dan return nya berupa integer"
   ]
  },
  {
   "cell_type": "code",
   "execution_count": 4,
   "metadata": {},
   "outputs": [
    {
     "name": "stdout",
     "output_type": "stream",
     "text": [
      "6\n",
      "robert\n"
     ]
    }
   ],
   "source": [
    "class Queue:\n",
    "    def __init__(self):\n",
    "        self.items = []\n",
    "\n",
    "    def isEmpty(self):\n",
    "        return self.items == []\n",
    "\n",
    "    def enqueue(self, item):\n",
    "        self.items.insert(0,item)\n",
    "\n",
    "    def dequeue(self):\n",
    "        return self.items.pop() \n",
    "\n",
    "    def size(self):\n",
    "        return len(self.items)\n",
    "\n",
    "q=Queue()\n",
    "q.enqueue('robert')\n",
    "q.enqueue('evans')\n",
    "q.enqueue('chris')\n",
    "q.enqueue('tom')\n",
    "q.enqueue('ruffalo')\n",
    "q.enqueue('brie')\n",
    "print(q.size())\n",
    "print(q.dequeue())"
   ]
  },
  {
   "cell_type": "markdown",
   "metadata": {},
   "source": [
    "## Infix Prefix Postfix\n",
    "\n",
    "    Operator yang di gunakan dalam operasi penghitungan notasi infix, prefix dan postfix:\n",
    "\n",
    "- '()' : (Kurung)\n",
    "- '*' (Perkalian)\n",
    "- '/' :(Pembagian)\n",
    "- '+' :(Penjumlahan)\n",
    "- '-' :(Pengurangan)\n",
    "\n",
    "### Infix\n",
    "\n",
    "    Infix adalah cara penulisan atau ungkapan yang meletakan operator di tengah antara 2 operand dalam hal ini dalam kurung sangat menentukan posisi.\n",
    "    \n",
    "- 'A + B * C'\n",
    "- '( A + B ) * C'\n",
    "- 'A - ( B + C ) * D'\n",
    "\n",
    "### Prefix\n",
    "\n",
    "    Prefix adalah notasi yang terbentuk atas operator dengan operand, dimana oprator didepan operand. contoh: A + B C (infix). maka notasi prefixnya adalah: +ABC.\n",
    "    \n",
    "- '+ A * B C'\n",
    "- '* + A B C'\n",
    "- '- A * + B C D'\n",
    "\n",
    "### Postfix\n",
    "\n",
    "    Postfix adalah notasi yang membentuk atas operator dengan operand, dimana operator berada dibelakang operand. Contoh : A + B C ( infix). maka notasi postfix adalah ABC+.\n",
    "    \n",
    "- 'A B C * +'\n",
    "- 'A B + C *'\n",
    "- 'A B C + D * -'\n",
    "\n",
    "\n",
    "Infix To Prefix"
   ]
  },
  {
   "cell_type": "code",
   "execution_count": 5,
   "metadata": {},
   "outputs": [
    {
     "name": "stdout",
     "output_type": "stream",
     "text": [
      "No 1\n",
      "Awal A - ( B + C ) * D\n",
      "isi prefix  ['D']\n",
      "isi prefix  ['D']\n",
      "isi prefix  ['D']\n",
      "isi prefix  ['D', 'C']\n",
      "isi prefix  ['D', 'C']\n",
      "isi prefix  ['D', 'C', 'B']\n",
      "isi prefix  ['D', 'C', 'B', '+']\n",
      "isi prefix  ['D', 'C', 'B', '+', '*']\n",
      "isi prefix  ['D', 'C', 'B', '+', '*', 'A']\n",
      "isi prefix  ['D', 'C', 'B', '+', '*', 'A', '-']\n",
      "- A * + B C D\n"
     ]
    }
   ],
   "source": [
    "class Stack:\n",
    "     def __init__(self):\n",
    "         self.items = []\n",
    "     def isEmpty(self):\n",
    "         return self.items == []\n",
    "     def push(self, item):\n",
    "         self.items.append(item)\n",
    "     def pop(self):\n",
    "         return self.items.pop()\n",
    "     def peek(self):\n",
    "         return self.items[len(self.items)-1]\n",
    "     def size(self):\n",
    "         return len(self.items)\n",
    "     def showList(self):\n",
    "          return self.items\n",
    "# No 1\n",
    "def infixToPrefix(infixexpr):\n",
    "    \n",
    "    prec = {'*':3, '/':3 , '+':2, '-':2 , '(':1}\n",
    "    opStack = Stack()\n",
    "    prefixList = []\n",
    "    tokenList = infixexpr.split()\n",
    "    tokenList.reverse()\n",
    "    for i in range(len(tokenList)):\n",
    "         if tokenList[i] == '(':\n",
    "              tokenList[i]=')'\n",
    "         elif tokenList[i] == ')':\n",
    "              tokenList[i]='('\n",
    "    for token in tokenList:\n",
    "        if token in \"ABCDEFGHIJKLMNOPQRSTUVWXYZ\" or token in \"0123456789\":\n",
    "            prefixList.append(token)\n",
    "        elif token == '(':\n",
    "            opStack.push(token)\n",
    "        elif token == ')':\n",
    "            topToken = opStack.pop()\n",
    "            \n",
    "            while topToken != '(':\n",
    "                prefixList.append(topToken)\n",
    "                topToken = opStack.pop()\n",
    "        else:\n",
    "            while (not opStack.isEmpty()) and \\\n",
    "               (prec[opStack.peek()] >= prec[token]):\n",
    "                  prefixList.append(opStack.pop())\n",
    "            opStack.push(token)\n",
    "        print('isi prefix ',str(prefixList))\n",
    "\n",
    "    while not opStack.isEmpty():\n",
    "        prefixList.append(opStack.pop())\n",
    "    print('isi prefix ',str(prefixList))\n",
    "    prefixList = prefixList[::-1]\n",
    "    return \" \".join(prefixList)\n",
    "\n",
    "print('No 1')\n",
    "infix1=\"A - ( B + C ) * D\"\n",
    "print('Awal',\"A - ( B + C ) * D\")\n",
    "print(infixToPrefix(infix1))"
   ]
  },
  {
   "cell_type": "markdown",
   "metadata": {},
   "source": [
    "Prefix Eval"
   ]
  },
  {
   "cell_type": "code",
   "execution_count": 7,
   "metadata": {},
   "outputs": [
    {
     "name": "stdout",
     "output_type": "stream",
     "text": [
      "72\n"
     ]
    }
   ],
   "source": [
    "class Stack:\n",
    "    def __init__(self):\n",
    "        self.items = []\n",
    "    def isEmpty(self):\n",
    "        return self.items == []\n",
    "    def push(self, item):\n",
    "        self.items.append(item)\n",
    "    def pop(self):\n",
    "        return self.items.pop()\n",
    "    def peek(self):\n",
    "        return self.items[len(self.items)-1]\n",
    "    def size(self):\n",
    "        return len(self.items)\n",
    "\n",
    "def prefixEval(prefixExpr):\n",
    "    operandStack = Stack()\n",
    "    tokenList = prefixExpr.split()\n",
    "\n",
    "    for token in tokenList[::-1]:\n",
    "        if token in \"0123456789\":\n",
    "            operandStack.push(int(token))\n",
    "        else:\n",
    "            operand2 = operandStack.pop()\n",
    "            operand1 = operandStack.pop()\n",
    "            result = doMath(token,operand1,operand2)\n",
    "            operandStack.push(result)\n",
    "    return operandStack.pop()\n",
    "\n",
    "def doMath(op, op1, op2):\n",
    "    if op == \"*\":\n",
    "        return op1 * op2\n",
    "    elif op == \"/\":\n",
    "        return op1 / op2\n",
    "    elif op == \"+\":\n",
    "        return op1 + op2\n",
    "    else:\n",
    "        return op1 - op2\n",
    "\n",
    "print(prefixEval('* + 4 5 8'))"
   ]
  },
  {
   "cell_type": "markdown",
   "metadata": {},
   "source": [
    "Infix To Postfix"
   ]
  },
  {
   "cell_type": "code",
   "execution_count": 6,
   "metadata": {},
   "outputs": [
    {
     "name": "stdout",
     "output_type": "stream",
     "text": [
      "No 1\n",
      "Awal A - ( B + C ) * D\n",
      "['A', '-', '(', 'B', '+', 'C', ')', '*', 'D']\n",
      "isi postix  ['A']\n",
      "isi postix  ['A']\n",
      "isi postix  ['A']\n",
      "isi postix  ['A', 'B']\n",
      "isi postix  ['A', 'B']\n",
      "isi postix  ['A', 'B', 'C']\n",
      "isi postix  ['A', 'B', 'C', '+']\n",
      "isi postix  ['A', 'B', 'C', '+']\n",
      "isi postix  ['A', 'B', 'C', '+', 'D']\n",
      "isi postix  ['A', 'B', 'C', '+', 'D', '*', '-']\n",
      "A B C + D * -\n"
     ]
    }
   ],
   "source": [
    "class Stack:\n",
    "     def __init__(self):\n",
    "         self.items = []\n",
    "     def isEmpty(self):\n",
    "         return self.items == []\n",
    "     def push(self, item):\n",
    "         self.items.append(item)\n",
    "     def pop(self):\n",
    "         return self.items.pop()\n",
    "     def peek(self):\n",
    "         return self.items[len(self.items)-1]\n",
    "     def size(self):\n",
    "         return len(self.items)\n",
    "     def showList(self):\n",
    "          return self.items\n",
    "\n",
    "def infixToPostfix(infixexpr):\n",
    "    prec = {}\n",
    "    prec[\"*\"] = 3\n",
    "    prec[\"/\"] = 3\n",
    "    prec[\"+\"] = 2\n",
    "    prec[\"-\"] = 2\n",
    "    prec[\"(\"] = 1\n",
    "    opStack = Stack()\n",
    "    postfixList = []\n",
    "    tokenList = infixexpr.split()\n",
    "    print(tokenList)\n",
    "    \n",
    "\n",
    "    for token in tokenList:\n",
    "        if token in \"ABCDEFGHIJKLMNOPQRSTUVWXYZ\" or token in \"0123456789\":\n",
    "            postfixList.append(token)\n",
    "        elif token == '(':\n",
    "            opStack.push(token)\n",
    "        elif token == ')':\n",
    "            topToken = opStack.pop()\n",
    "            \n",
    "            while topToken != '(':\n",
    "                postfixList.append(topToken)\n",
    "                topToken = opStack.pop()\n",
    "        else:\n",
    "            while (not opStack.isEmpty()) and \\\n",
    "               (prec[opStack.peek()] >= prec[token]):\n",
    "                  postfixList.append(opStack.pop())\n",
    "            opStack.push(token)\n",
    "        print('isi postix ',str(postfixList))\n",
    "        \n",
    "\n",
    "    while not opStack.isEmpty():\n",
    "        postfixList.append(opStack.pop())\n",
    "    print('isi postix ',str(postfixList))\n",
    "    return \" \".join(postfixList)\n",
    "\n",
    "\n",
    "print('No 1')\n",
    "infix1=\"A - ( B + C ) * D\"\n",
    "print('Awal',\"A - ( B + C ) * D\")\n",
    "print(infixToPostfix(infix1))"
   ]
  },
  {
   "cell_type": "markdown",
   "metadata": {},
   "source": [
    "Postfix Eval"
   ]
  },
  {
   "cell_type": "code",
   "execution_count": 8,
   "metadata": {},
   "outputs": [
    {
     "name": "stdout",
     "output_type": "stream",
     "text": [
      "3.0\n"
     ]
    }
   ],
   "source": [
    "class Stack:\n",
    "    def __init__(self):\n",
    "        self.items = []\n",
    "    def isEmpty(self):\n",
    "         return self.items == []\n",
    "    def push(self, item):\n",
    "         self.items.append(item)\n",
    "    def pop(self):\n",
    "        return self.items.pop()\n",
    "    def peek(self):\n",
    "        return self.items[len(self.items)-1]\n",
    "    def size(self):\n",
    "        return len(self.items)\n",
    "def postfixEval(postfixExpr):\n",
    "    operandStack = Stack()\n",
    "    tokenList = postfixExpr.split()\n",
    "\n",
    "    for token in tokenList:\n",
    "        if token in \"0123456789\":\n",
    "            operandStack.push(int(token))\n",
    "        else:\n",
    "            operand2 = operandStack.pop()\n",
    "            operand1 = operandStack.pop()\n",
    "            result = doMath(token,operand1,operand2)\n",
    "            operandStack.push(result)\n",
    "    return operandStack.pop()\n",
    "\n",
    "def doMath(op, op1, op2):\n",
    "    if op == \"*\":\n",
    "        return op1 * op2\n",
    "    elif op == \"/\":\n",
    "        return op1 / op2\n",
    "    elif op == \"+\":\n",
    "        return op1 + op2\n",
    "    else:\n",
    "        return op1 - op2\n",
    "\n",
    "print(postfixEval('7 8 + 3 2 + /'))"
   ]
  },
  {
   "cell_type": "code",
   "execution_count": null,
   "metadata": {},
   "outputs": [],
   "source": []
  }
 ],
 "metadata": {
  "kernelspec": {
   "display_name": "Python 3",
   "language": "python",
   "name": "python3"
  },
  "language_info": {
   "codemirror_mode": {
    "name": "ipython",
    "version": 3
   },
   "file_extension": ".py",
   "mimetype": "text/x-python",
   "name": "python",
   "nbconvert_exporter": "python",
   "pygments_lexer": "ipython3",
   "version": "3.7.0"
  }
 },
 "nbformat": 4,
 "nbformat_minor": 2
}
