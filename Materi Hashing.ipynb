{
 "cells": [
  {
   "cell_type": "markdown",
   "metadata": {},
   "source": [
    "Materi Hashing\n",
    "\n",
    "    Hashing adalah proses pengindeksan dan pengembalian elemen dalam struktur data untuk menyajikan langkah yang lebih cepat dalam pencarian elemen menggunakan hash key. Ketika dua item terindeks ke dalam slot yang sama, harus dilakukan metode sistematis untuk menempatkan item kedua dalam tabel slot, hal ini disebut sebagai collision. \n",
    "    Dengan begitu, terdapat dua penyelesaian yaitu menggunakan open addressing (Linear dan Quadratic) dan close addressing (Chaining)"
   ]
  },
  {
   "cell_type": "markdown",
   "metadata": {},
   "source": [
    "OPEN ADDRESSING\n",
    "\n",
    "    Cara kerjanya adalah mencoba mencari slot lain yang terbuka atau alamat di dalam tabel hash. Open addressing terbagi menjadi dua cara yaitu Linear Probing dan Quadratic Probing"
   ]
  },
  {
   "cell_type": "markdown",
   "metadata": {},
   "source": [
    "Linear Probbing\n",
    "\n",
    "    Linear Probing cara kerjanya adalah mencari dengan sequential, slot demi slot, hingga menemukan posisi yang masih kosong. Jika terjadi collision mencari posisinya hanya h+1,h+2,h+3 dan seterusnya sampai mendapatkan slot."
   ]
  },
  {
   "cell_type": "code",
   "execution_count": 1,
   "metadata": {},
   "outputs": [
    {
     "name": "stdout",
     "output_type": "stream",
     "text": [
      "Masukkan banyaknya slot tabel= 11\n",
      "[None, None, None, None, None, None, None, None, None, None, None]\n",
      "Masukkan angka yang ingin diinput= 42\n",
      "[None, None, None, None, None, None, None, None, None, 42, None]\n",
      "Masukkan angka yang ingin diinput= 15\n",
      "[None, None, None, None, 15, None, None, None, None, 42, None]\n",
      "Masukkan angka yang ingin diinput= 54\n",
      "[None, None, None, None, 15, None, None, None, None, 42, 54]\n",
      "Masukkan angka yang ingin diinput= 26\n",
      "[26, None, None, None, 15, None, None, None, None, 42, 54]\n",
      "Masukkan angka yang ingin diinput= 17\n",
      "[26, None, None, None, 15, None, 17, None, None, 42, 54]\n",
      "Masukkan angka yang ingin diinput= 93\n",
      "[26, None, None, None, 15, 93, 17, None, None, 42, 54]\n",
      "Masukkan angka yang ingin diinput= 55\n",
      "[26, 55, None, None, 15, 93, 17, None, None, 42, 54]\n",
      "Masukkan angka yang ingin diinput= 77\n",
      "[26, 55, 77, None, 15, 93, 17, None, None, 42, 54]\n",
      "Masukkan angka yang ingin diinput= 20\n",
      "[26, 55, 77, 20, 15, 93, 17, None, None, 42, 54]\n",
      "Masukkan angka yang ingin diinput= 44\n",
      "[26, 55, 77, 20, 15, 93, 17, 44, None, 42, 54]\n",
      "Masukkan angka yang ingin diinput= 31\n",
      "[26, 55, 77, 20, 15, 93, 17, 44, 31, 42, 54]\n"
     ]
    }
   ],
   "source": [
    "banyak= int(input(\"Masukkan banyaknya slot tabel= \"))\n",
    "slot = [None]*banyak\n",
    "\n",
    "def hashing(num):\n",
    "    return num % banyak\n",
    "\n",
    "def cariAngka(slot,key,nilai):\n",
    "    position= hashing(key)\n",
    "    stop=False\n",
    "    if not (stop):\n",
    "        ###Ini untuk jika angka yang dicari belum ada, maka akan diinsert###\n",
    "        if slot[position]==None:\n",
    "            slot[position]=nilai\n",
    "            stop=True\n",
    "        else:\n",
    "            ###Jika slot sudah diisi nilai maka terjadi collision###\n",
    "            ###Ini loopingan untuk collision###\n",
    "            for posisiBaru in range(len(slot)):\n",
    "                if slot[posisiBaru]==None and not (stop):\n",
    "                    slot[posisiBaru]=nilai\n",
    "                    stop=True\n",
    "                position += 1\n",
    "                \n",
    "                \n",
    "###-----Main Program-----###\n",
    "print(slot)\n",
    "stop=0\n",
    "while stop<=(len(slot)-1):\n",
    "    number=int(input(\"Masukkan angka yang ingin diinput= \"))\n",
    "    stop += 1\n",
    "    cariAngka(slot,number,number)\n",
    "    print(slot)"
   ]
  },
  {
   "cell_type": "markdown",
   "metadata": {},
   "source": [
    "Quadratic Probbing\n",
    "\n",
    "    Quadratic probing adalah skema pengalamatan terbuka dalam pemrograman komputer untuk menyelesaikan collision dalam tabel hash. Quadrat probing yaitu metode penempatan yang berarti bahwa jika nilai hash pertama adalah h, nilai berturut-turut adalah h+1, h+4, h+9, h+16, begitu seterusnya."
   ]
  },
  {
   "cell_type": "code",
   "execution_count": 2,
   "metadata": {},
   "outputs": [
    {
     "name": "stdout",
     "output_type": "stream",
     "text": [
      "Masukkan banyaknya slot tabel= 11\n",
      "[None, None, None, None, None, None, None, None, None, None, None]\n",
      "Masukkan angka yang ingin diinput= 42\n",
      "[None, None, None, None, None, None, None, None, None, 42, None]\n",
      "Masukkan angka yang ingin diinput= 15\n",
      "[None, None, None, None, 15, None, None, None, None, 42, None]\n",
      "Masukkan angka yang ingin diinput= 54\n",
      "[None, None, None, None, 15, None, None, None, None, 42, 54]\n",
      "Masukkan angka yang ingin diinput= 26\n",
      "[None, None, None, None, 15, 26, None, None, None, 42, 54]\n",
      "Masukkan angka yang ingin diinput= 17\n",
      "[None, None, None, None, 15, 26, 17, None, None, 42, 54]\n",
      "Masukkan angka yang ingin diinput= 93\n",
      "[None, None, None, 93, 15, 26, 17, None, None, 42, 54]\n",
      "Masukkan angka yang ingin diinput= 55\n",
      "[55, None, None, 93, 15, 26, 17, None, None, 42, 54]\n",
      "Masukkan angka yang ingin diinput= 77\n",
      "[55, 77, None, 93, 15, 26, 17, None, None, 42, 54]\n",
      "Masukkan angka yang ingin diinput= 20\n",
      "[55, 77, 20, 93, 15, 26, 17, None, None, 42, 54]\n",
      "Masukkan angka yang ingin diinput= 44\n",
      "[55, 77, 20, 93, 15, 26, 17, None, None, 42, 54]\n",
      "Masukkan angka yang ingin diinput= 31\n",
      "[55, 77, 20, 93, 15, 26, 17, 31, None, 42, 54]\n"
     ]
    }
   ],
   "source": [
    "banyak= int(input(\"Masukkan banyaknya slot tabel= \"))\n",
    "slot = [None]*banyak\n",
    "\n",
    "def hashing(num):\n",
    "    return num % banyak\n",
    "\n",
    "def cariAngka(slot,key,nilai):\n",
    "    position= hashing(key)\n",
    "    stop=False\n",
    "    if not (stop):\n",
    "        ###Ini untuk jika angka yang dicari belum ada, maka akan diinsert###\n",
    "        if slot[position]==None:\n",
    "            slot[position]=nilai\n",
    "            stop=True\n",
    "        else:\n",
    "            ###Jika slot sudah diisi nilai maka terjadi collision###\n",
    "            ###Ini Loopingan untuk collision###\n",
    "            stop=False\n",
    "            temp=0\n",
    "            for posisiBaru in range(len(slot)):\n",
    "                posisiBaru = (position+(temp*temp))%banyak\n",
    "                if slot[posisiBaru]==None and not (stop):\n",
    "                    slot[posisiBaru]=nilai\n",
    "                    stop=True\n",
    "                temp += 1\n",
    "                \n",
    "\n",
    "###-----Main Program-----###\n",
    "print(slot)\n",
    "stop=0\n",
    "while stop<=(len(slot)-1):\n",
    "    number=int(input(\"Masukkan angka yang ingin diinput= \"))\n",
    "    stop += 1\n",
    "    cariAngka(slot,number,number)\n",
    "    print(slot)"
   ]
  },
  {
   "cell_type": "markdown",
   "metadata": {},
   "source": [
    "Close Addressing (Chaining)\n",
    "\n",
    "    Mengizinkan banyak item untuk ada dalam lokasi yang sama dalam tabel hash. Ketika terjadi collision, item masih ditempatkan dalam slot yang sama di dalam tabel hash, bisa juga disebut sebagai chaining."
   ]
  },
  {
   "cell_type": "code",
   "execution_count": 3,
   "metadata": {},
   "outputs": [
    {
     "name": "stdout",
     "output_type": "stream",
     "text": [
      "Masukkan banyaknya slot tabel= 11\n",
      "[[], [], [], [], [], [], [], [], [], [], []]\n",
      "Masukkan angka yang ingin diinput= 42\n",
      "[[], [], [], [], [], [], [], [], [], [42], []]\n",
      "Masukkan angka yang ingin diinput= 15\n",
      "[[], [], [], [], [15], [], [], [], [], [42], []]\n",
      "Masukkan angka yang ingin diinput= 54\n",
      "[[], [], [], [], [15], [], [], [], [], [42], [54]]\n",
      "Masukkan angka yang ingin diinput= 26\n",
      "[[], [], [], [], [15, 26], [], [], [], [], [42], [54]]\n",
      "Masukkan angka yang ingin diinput= 17\n",
      "[[], [], [], [], [15, 26], [], [17], [], [], [42], [54]]\n",
      "Masukkan angka yang ingin diinput= 93\n",
      "[[], [], [], [], [15, 26], [93], [17], [], [], [42], [54]]\n",
      "Masukkan angka yang ingin diinput= 55\n",
      "[[55], [], [], [], [15, 26], [93], [17], [], [], [42], [54]]\n",
      "Masukkan angka yang ingin diinput= 77\n",
      "[[55, 77], [], [], [], [15, 26], [93], [17], [], [], [42], [54]]\n",
      "Masukkan angka yang ingin diinput= 20\n",
      "[[55, 77], [], [], [], [15, 26], [93], [17], [], [], [42, 20], [54]]\n",
      "Masukkan angka yang ingin diinput= 44\n",
      "[[55, 77, 44], [], [], [], [15, 26], [93], [17], [], [], [42, 20], [54]]\n",
      "Masukkan angka yang ingin diinput= 31\n",
      "[[55, 77, 44], [], [], [], [15, 26], [93], [17], [], [], [42, 20, 31], [54]]\n"
     ]
    }
   ],
   "source": [
    "banyak= int(input(\"Masukkan banyaknya slot tabel= \"))\n",
    "slot = [[] for x in range(banyak)]\n",
    "\n",
    "def hashing(num):\n",
    "    return num % banyak\n",
    "\n",
    "def cariAngka(slot,key,nilai):\n",
    "    position=hashing(key)\n",
    "    if slot[position]!=nilai:\n",
    "        ###Ini untuk jika angka yang dicari belum ada, maka akan diinsert###\n",
    "        slot[position].append(nilai)\n",
    "        \n",
    "\n",
    "###-----Main Program-----###\n",
    "print(slot)\n",
    "stop=0\n",
    "while stop<=(len(slot)-1):\n",
    "    number=int(input(\"Masukkan angka yang ingin diinput= \"))\n",
    "    stop += 1\n",
    "    cariAngka(slot,number,number)\n",
    "    print(slot)"
   ]
  },
  {
   "cell_type": "code",
   "execution_count": null,
   "metadata": {},
   "outputs": [],
   "source": []
  }
 ],
 "metadata": {
  "kernelspec": {
   "display_name": "Python 3",
   "language": "python",
   "name": "python3"
  },
  "language_info": {
   "codemirror_mode": {
    "name": "ipython",
    "version": 3
   },
   "file_extension": ".py",
   "mimetype": "text/x-python",
   "name": "python",
   "nbconvert_exporter": "python",
   "pygments_lexer": "ipython3",
   "version": "3.7.0"
  }
 },
 "nbformat": 4,
 "nbformat_minor": 2
}
