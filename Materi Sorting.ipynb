{
 "cells": [
  {
   "cell_type": "markdown",
   "metadata": {},
   "source": [
    "Materi Sorting\n",
    "   \n",
    "    Adalah suatu proses pengurutan angka dari yang terkecil hingga terbesar begitupun sebaliknya. ada 6 cara untuk melakukan proses sorting yaitu :\n",
    "1. Bubble Sort\n",
    "2. Selection Sort\n",
    "3. Insertion Sort\n",
    "4. Quick Sort\n",
    "5. Merge Sort\n",
    "6. Shell Sort"
   ]
  },
  {
   "cell_type": "markdown",
   "metadata": {},
   "source": [
    "1. Bubble Sort\n",
    "\n",
    "    Adalah suatu proses pengurutan yang sangat sederhana, suatu proses dengan cara membandingkan masing - masing nilai dalam suatu list secara berpasangan, pertukaran akan terjadi jika indeks[i] lebih besar daripada indeks[i+1]. jika indeks[i] lebih kecil dari indeks[i+1] maka tidak akan terjadi pertukaran, dan nilai yang menjadi patokannya akan bertambah 1. proses akan berlangsung secara terus menerus hingga list ke - n hinggal nilai yang ada pada list terurut."
   ]
  },
  {
   "cell_type": "code",
   "execution_count": 4,
   "metadata": {},
   "outputs": [
    {
     "name": "stdout",
     "output_type": "stream",
     "text": [
      "[3, 1, 4, 7, 5, 6, 2]\n",
      "[1, 3, 4, 7, 5, 6, 2]\n",
      "[1, 3, 4, 7, 5, 6, 2]\n",
      "[1, 3, 4, 7, 5, 6, 2]\n",
      "[1, 3, 4, 5, 7, 6, 2]\n",
      "[1, 3, 4, 5, 6, 7, 2]\n",
      "[1, 3, 4, 5, 6, 2, 7]\n",
      "[1, 3, 4, 5, 6, 2, 7]\n",
      "[1, 3, 4, 5, 6, 2, 7]\n",
      "[1, 3, 4, 5, 6, 2, 7]\n",
      "[1, 3, 4, 5, 6, 2, 7]\n",
      "[1, 3, 4, 5, 2, 6, 7]\n",
      "[1, 3, 4, 5, 2, 6, 7]\n",
      "[1, 3, 4, 5, 2, 6, 7]\n",
      "[1, 3, 4, 5, 2, 6, 7]\n",
      "[1, 3, 4, 2, 5, 6, 7]\n",
      "[1, 3, 4, 2, 5, 6, 7]\n",
      "[1, 3, 4, 2, 5, 6, 7]\n",
      "[1, 3, 2, 4, 5, 6, 7]\n",
      "[1, 3, 2, 4, 5, 6, 7]\n",
      "[1, 2, 3, 4, 5, 6, 7]\n",
      "[1, 2, 3, 4, 5, 6, 7]\n"
     ]
    }
   ],
   "source": [
    "#Bubble Sort\n",
    "listAcak=[3,1,4,7,5,6,2]\n",
    "print(listAcak)\n",
    "awal=0\n",
    "akhir=len(listAcak)-1\n",
    "for x in range(akhir,awal,-1):\n",
    "    for i in range(x):\n",
    "        if listAcak[i]>listAcak[i+1]:\n",
    "            listAcak[i],listAcak[i+1]=listAcak[i+1],listAcak[i]\n",
    "        print(listAcak)\n",
    "\n"
   ]
  },
  {
   "cell_type": "markdown",
   "metadata": {},
   "source": [
    "2. Selection Sort\n",
    "\n",
    "    Adalah metode pencarian yang membandingkan elemen list yang pertama dengan elemen yang berikutnya sampai dengan elemen yang terakhir. Jika ditemukan elemen lain yang lebih kecil dari elemen yang sekarang maka ditandai posisinya dan kemudian akan saling bertukar tempat. Metode ini memiliki konsep menemukan nilai minimum di dalam array dan memindahkannya pada posisi awal ataupun akhir sesuai yang diinginan. Step ini lalu diulangi lagi untuk nilai terendah kedua, lalu ketiga, dan seterusnya hingga array terurut dengan benar."
   ]
  },
  {
   "cell_type": "code",
   "execution_count": 5,
   "metadata": {},
   "outputs": [
    {
     "name": "stdout",
     "output_type": "stream",
     "text": [
      "[3, 1, 4, 7, 5, 6, 2]\n",
      "[1, 3, 4, 7, 5, 6, 2]\n",
      "[1, 2, 4, 7, 5, 6, 3]\n",
      "[1, 2, 3, 7, 5, 6, 4]\n",
      "[1, 2, 3, 4, 5, 6, 7]\n",
      "[1, 2, 3, 4, 5, 6, 7]\n",
      "[1, 2, 3, 4, 5, 6, 7]\n"
     ]
    }
   ],
   "source": [
    "#Selection Sort\n",
    "listAcak=[3,1,4,7,5,6,2]\n",
    "for x in range(len(listAcak)-1):\n",
    "    print(listAcak)\n",
    "    minim=x\n",
    "    for y in range(x+1,len(listAcak)):\n",
    "        if listAcak[y]<listAcak[minim]:\n",
    "            minim=y\n",
    "    listAcak[x],listAcak[minim]=listAcak[minim],listAcak[x]\n",
    "print(listAcak)"
   ]
  },
  {
   "cell_type": "markdown",
   "metadata": {},
   "source": [
    "3. Insertion Sort\n",
    "\n",
    "    Adalah metode pengurutan data yang cara kerjanya menyisipkan suatu elemen list pada posisi yang sesuai. Posisi tersebut dicari dengan cara membandingkan suatu elemen dengan elemen-elemen sebelumnya. Pada algoritma ini, mula-mula elemen pertama dianggap telah berada pada posisi yang tepat. Selanjutnya, elemen kedua akan dibandingkan dengan elemen pertama. Jika elemen pertama lebih besar dari elemen kedua, maka elemen pertama akan digeser ke kanan menjadi elemen kedua dan elemen kedua sebelumnya akan disisiplan pada posisi pertama.\n",
    "    Setelah itu, elemen ketiga akan dibandingkan dengan elemen kedua dan pertama. Jika yang lebih besar atau yang lebih kecil tidak sesuai pada posisi urutnya maka akan bertukar tempat."
   ]
  },
  {
   "cell_type": "code",
   "execution_count": 7,
   "metadata": {},
   "outputs": [
    {
     "name": "stdout",
     "output_type": "stream",
     "text": [
      "[3, 1, 4, 7, 5, 6, 2]\n",
      "[1, 3, 4, 7, 5, 6, 2]\n",
      "[1, 3, 4, 7, 5, 6, 2]\n",
      "[1, 3, 4, 7, 5, 6, 2]\n",
      "[1, 3, 4, 5, 7, 6, 2]\n",
      "[1, 3, 4, 5, 6, 7, 2]\n",
      "[1, 2, 3, 4, 5, 6, 7]\n"
     ]
    }
   ],
   "source": [
    "#Insertion Sort\n",
    "listAcak=[3,1,4,7,5,6,2]\n",
    "print(listAcak)\n",
    "awal=0\n",
    "c=0\n",
    "akhir=len(listAcak)\n",
    "for x in range(1,akhir):\n",
    "    nilai=listAcak[x]\n",
    "    hole=x\n",
    "    while (hole>0 and listAcak[hole-1]>nilai):\n",
    "        listAcak[hole]=listAcak[hole-1]\n",
    "        hole=hole-1\n",
    "    listAcak[hole]=nilai\n",
    "    print(listAcak)"
   ]
  },
  {
   "cell_type": "markdown",
   "metadata": {},
   "source": [
    "4. Quick Sort\n",
    "\n",
    "    Adalah algoritma sorting yang populer karena cenderung lebih cepat dalam penerapannya dibanding algoritma sorting yang lain. Quick sort memanfaatkan strategi pembagian dan penaklukan untuk mengurutkan item data dengan cepat dengan cara membagi array besar menjadi dua array kecil."
   ]
  },
  {
   "cell_type": "code",
   "execution_count": 8,
   "metadata": {},
   "outputs": [
    {
     "name": "stdout",
     "output_type": "stream",
     "text": [
      "[100, 6, 500, 4, 56, 2, 1, 0]\n",
      "[0, 6, 500, 4, 56, 2, 1, 100]\n",
      "[0, 6, 500, 4, 56, 2, 1, 100]\n",
      "[0, 6, 4, 500, 56, 2, 1, 100]\n",
      "[0, 6, 4, 56, 500, 2, 1, 100]\n",
      "[0, 6, 4, 56, 2, 500, 1, 100]\n",
      "[0, 6, 4, 56, 2, 1, 500, 100]\n",
      "[0, 6, 4, 56, 2, 1, 100, 500]\n",
      "[0, 1, 4, 56, 2, 6, 100, 500]\n",
      "[0, 1, 4, 56, 2, 6, 100, 500]\n",
      "[0, 1, 4, 2, 56, 6, 100, 500]\n",
      "[0, 1, 4, 2, 6, 56, 100, 500]\n",
      "[0, 1, 2, 4, 6, 56, 100, 500]\n"
     ]
    }
   ],
   "source": [
    "#Quick Sort\n",
    "def part(a,awal,akhir):\n",
    "    pivot=a[akhir]\n",
    "    pindex=awal\n",
    "    for y in range(awal,akhir):\n",
    "        #print(a[y],pivot,a[y]<=pivot)\n",
    "        #print(a[akhir])\n",
    "        #print(y,pindex,a[pindex])\n",
    "        if a[y] <= pivot:\n",
    "            a[y],a[pindex]=a[pindex],a[y]\n",
    "            pindex=pindex+1\n",
    "            print(a)\n",
    "    a[pindex],a[akhir]=a[akhir],a[pindex]\n",
    "    print(a)\n",
    "    return pindex\n",
    "def quick(a,awal,akhir):\n",
    "    if awal<akhir:\n",
    "        pindex=part(a,awal,akhir)\n",
    "        quick(a,awal,pindex-1)\n",
    "        #print(a)\n",
    "        quick(a,pindex+1,akhir)\n",
    "        #print(a)\n",
    "def awalQ(a):\n",
    "    quick(a,awal,akhir)\n",
    "a=[100,6,500,4,56,2,1,0]\n",
    "print(a)\n",
    "awal=0\n",
    "c=0\n",
    "akhir=len(a)-1\n",
    "awalQ(a)"
   ]
  },
  {
   "cell_type": "markdown",
   "metadata": {},
   "source": [
    "5. Merged Sort\n",
    "\n",
    "    Merged sort adalah algoritma pembagian dan penaklukkan. Ia membagi input array menjadi 2 bagian, memanggil dirinya sendiri untuk 2 bagian dan menggabungkan dua bagian yang sudah terurut. Function gabungannya digunakan untuk menggabungkan dua bagian tadi."
   ]
  },
  {
   "cell_type": "code",
   "execution_count": 11,
   "metadata": {},
   "outputs": [
    {
     "name": "stdout",
     "output_type": "stream",
     "text": [
      "[54, 26, 93, 17, 77, 31, 44, 55, 20]\n",
      "Merged=  [54]\n",
      "Merged=  [26]\n",
      "Merged=  [26, 54]\n",
      "Merged=  [93]\n",
      "Merged=  [17]\n",
      "Merged=  [17, 93]\n",
      "Merged=  [17, 26, 54, 93]\n",
      "Merged=  [77]\n",
      "Merged=  [31]\n",
      "Merged=  [31, 77]\n",
      "Merged=  [44]\n",
      "Merged=  [55]\n",
      "Merged=  [20]\n",
      "Merged=  [20, 55]\n",
      "Merged=  [20, 44, 55]\n",
      "Merged=  [20, 31, 44, 55, 77]\n",
      "Merged=  [17, 20, 26, 31, 44, 54, 55, 77, 93]\n",
      "[17, 20, 26, 31, 44, 54, 55, 77, 93]\n"
     ]
    }
   ],
   "source": [
    "#Merged Sort\n",
    "def merge(num):\n",
    "    if len(num)>1:\n",
    "        mid=len(num)//2\n",
    "        kiri=num[:mid]\n",
    "        kanan=num[mid:]\n",
    "\n",
    "        merge(kiri)\n",
    "        merge(kanan)\n",
    "\n",
    "        i=0\n",
    "        j=0\n",
    "        k=0\n",
    "        while i<len(kiri) and j<len(kanan):\n",
    "            if kiri[i]<kanan[j]:\n",
    "                num[k]=kiri[i]\n",
    "                i += 1\n",
    "            else:\n",
    "                num[k]=kanan[j]\n",
    "                j += 1\n",
    "            k += 1\n",
    "        while i<len(kiri):\n",
    "            num[k]=kiri[i]\n",
    "            i += 1\n",
    "            k += 1\n",
    "        while j<len(kanan):\n",
    "            num[k]=kanan[j]\n",
    "            j += 1\n",
    "            k += 1\n",
    "    #Ini hanya untuk melihat saat list dibagi 2 bagian sampai bagian kanan dan kirinya\n",
    "    print(\"Merged= \", num)\n",
    "    \n",
    "num=[54,26,93,17,77,31,44,55,20]\n",
    "print(num)\n",
    "\n",
    "merge(num)\n",
    "print(num)"
   ]
  },
  {
   "cell_type": "markdown",
   "metadata": {},
   "source": [
    "6. Shell Sort\n",
    "\n",
    "    Bisa dilihat sebagai generalisasi bubble sort atau insertion sort. Metodenya diawali dengan mengurutkan bagian dari elemen yang berjauhan, lalu secara progresif mengurangi gap antara elemen-elemen yang akan diurutkan. Mulai dengan elemen-elemen yang berjauhan, itu bisa memindahkan beberapa elemen diluar posisi ke dalam posisi lebih cepat daripada penukaran sederhana terdekat."
   ]
  },
  {
   "cell_type": "code",
   "execution_count": 14,
   "metadata": {},
   "outputs": [
    {
     "name": "stdout",
     "output_type": "stream",
     "text": [
      "Awal= [5, 8, 4, 5, 4, 3, 9, 1, 2, 8]\n",
      "Saat gap= 5\n",
      "[3, 8, 4, 5, 4, 5, 9, 1, 2, 8]\n",
      "Saat gap= 5\n",
      "[3, 8, 4, 5, 4, 5, 9, 1, 2, 8]\n",
      "Saat gap= 5\n",
      "[3, 8, 1, 5, 4, 5, 9, 4, 2, 8]\n",
      "Saat gap= 5\n",
      "[3, 8, 1, 2, 4, 5, 9, 4, 5, 8]\n",
      "Saat gap= 5\n",
      "[3, 8, 1, 2, 4, 5, 9, 4, 5, 8]\n",
      "Saat gap= 2\n",
      "[1, 8, 3, 2, 4, 5, 9, 4, 5, 8]\n",
      "[1, 8, 3, 2, 4, 5, 9, 4, 5, 8]\n",
      "[1, 8, 3, 2, 4, 5, 9, 4, 5, 8]\n",
      "[1, 8, 3, 2, 4, 5, 5, 4, 9, 8]\n",
      "Saat gap= 2\n",
      "[1, 2, 3, 8, 4, 5, 5, 4, 9, 8]\n",
      "[1, 2, 3, 5, 4, 8, 5, 4, 9, 8]\n",
      "[1, 2, 3, 4, 4, 5, 5, 8, 9, 8]\n",
      "[1, 2, 3, 4, 4, 5, 5, 8, 9, 8]\n",
      "Saat gap= 1\n",
      "[1, 2, 3, 4, 4, 5, 5, 8, 9, 8]\n",
      "[1, 2, 3, 4, 4, 5, 5, 8, 9, 8]\n",
      "[1, 2, 3, 4, 4, 5, 5, 8, 9, 8]\n",
      "[1, 2, 3, 4, 4, 5, 5, 8, 9, 8]\n",
      "[1, 2, 3, 4, 4, 5, 5, 8, 9, 8]\n",
      "[1, 2, 3, 4, 4, 5, 5, 8, 9, 8]\n",
      "[1, 2, 3, 4, 4, 5, 5, 8, 9, 8]\n",
      "[1, 2, 3, 4, 4, 5, 5, 8, 9, 8]\n",
      "[1, 2, 3, 4, 4, 5, 5, 8, 8, 9]\n"
     ]
    }
   ],
   "source": [
    "#Shell Sort\n",
    "def shell(lisT):\n",
    "    gap=len(lisT)//2\n",
    "    while gap>0:\n",
    "        for start in range(gap):\n",
    "            gapInsert(lisT,start,gap)\n",
    "        gap=gap//2\n",
    "        \n",
    "\n",
    "def gapInsert(lisT,start,gap):\n",
    "    print(\"Saat gap=\",gap)\n",
    "    for x in range(start+gap,len(lisT),gap):\n",
    "        nilai=lisT[x]\n",
    "        posisi = x\n",
    "        while posisi>=gap and lisT[posisi-gap]>nilai:\n",
    "            lisT[posisi]=lisT[posisi-gap]\n",
    "            posisi -= gap\n",
    "        lisT[posisi]=nilai\n",
    "        print(lisT)\n",
    "\n",
    "lisT=[5, 8, 4, 5, 4, 3, 9, 1, 2, 8]\n",
    "print(\"Awal=\",lisT)\n",
    "shell(lisT)"
   ]
  },
  {
   "cell_type": "code",
   "execution_count": null,
   "metadata": {},
   "outputs": [],
   "source": []
  }
 ],
 "metadata": {
  "kernelspec": {
   "display_name": "Python 3",
   "language": "python",
   "name": "python3"
  },
  "language_info": {
   "codemirror_mode": {
    "name": "ipython",
    "version": 3
   },
   "file_extension": ".py",
   "mimetype": "text/x-python",
   "name": "python",
   "nbconvert_exporter": "python",
   "pygments_lexer": "ipython3",
   "version": "3.7.0"
  }
 },
 "nbformat": 4,
 "nbformat_minor": 2
}
